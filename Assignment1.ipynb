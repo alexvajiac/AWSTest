{
 "cells": [
  {
   "cell_type": "code",
   "execution_count": 155,
   "id": "dfd8e70e-b41c-4c90-b779-b8090620eb77",
   "metadata": {},
   "outputs": [],
   "source": [
    "def bubble_sort(arr):\n",
    "    n = len(arr)\n",
    "    for i in range(n):\n",
    "        for j in range(0, n-i-1):\n",
    "            if arr[j] > arr[j+1]:\n",
    "                arr[j], arr[j+1] = arr[j+1], arr[j]"
   ]
  },
  {
   "cell_type": "code",
   "execution_count": 156,
   "id": "1f24f876-2d31-4895-8788-7aaad7d0910e",
   "metadata": {},
   "outputs": [],
   "source": [
    "def merge_sort(arr):\n",
    "    if len(arr) > 1:\n",
    "        mid = len(arr)//2\n",
    "        L = arr[:mid]\n",
    "        R = arr[mid:]\n",
    "\n",
    "        merge_sort(L)\n",
    "        merge_sort(R)\n",
    "\n",
    "        i = j = k = 0\n",
    "        while i < len(L) and j < len(R):\n",
    "            if L[i] < R[j]:\n",
    "                arr[k] = L[i]\n",
    "                i += 1\n",
    "            else:\n",
    "                arr[k] = R[j]\n",
    "                j += 1\n",
    "            k += 1\n",
    "        while i < len(L):\n",
    "            arr[k] = L[i]\n",
    "            i += 1\n",
    "            k += 1\n",
    "        while j < len(R):\n",
    "            arr[k] = R[j]\n",
    "            j += 1\n",
    "            k += 1"
   ]
  },
  {
   "cell_type": "code",
   "execution_count": 157,
   "id": "aca9b076-d0af-4a27-89be-af21cc5a465d",
   "metadata": {},
   "outputs": [],
   "source": [
    "def quick_sort(arr):\n",
    "    if len(arr) <= 1:\n",
    "        return arr\n",
    "    pivot = arr[len(arr) // 2]\n",
    "    left = [x for x in arr if x < pivot]\n",
    "    middle = [x for x in arr if x == pivot]\n",
    "    right = [x for x in arr if x > pivot]\n",
    "    return quick_sort(left) + middle + quick_sort(right)"
   ]
  },
  {
   "cell_type": "code",
   "execution_count": 158,
   "id": "19a1e8d4-bd8e-4b45-861f-11988a33d67e",
   "metadata": {},
   "outputs": [
    {
     "name": "stdout",
     "output_type": "stream",
     "text": [
      "[1, 2, 4, 5, 7, 7, 8, 8, 9, 9, 9, 10, 11, 14, 14, 15, 16, 17, 18, 20, 21, 21, 22, 22, 24, 24, 25, 27, 27, 29, 30, 30, 31, 33, 34, 35, 36, 39, 40, 41, 41, 41, 41, 42, 42, 44, 45, 46, 47, 55, 55, 55, 56, 58, 59, 60, 61, 61, 63, 64, 65, 66, 68, 68, 69, 69, 73, 74, 76, 76, 76, 77, 78, 80, 80, 80, 81, 81, 82, 83, 84, 85, 85, 86, 87, 87, 88, 88, 89, 90, 90, 91, 93, 93, 95, 96, 97, 98, 98, 98]\n",
      "CPU Usage: 0.0\n",
      "Time Complexity: 0.0001951999875018373\n",
      "Memory Usage: 80.1484375\n"
     ]
    }
   ],
   "source": [
    "import timeit\n",
    "import psutil\n",
    "from memory_profiler import memory_usage\n",
    "arr = [41, 14, 81, 41, 95, 17, 46, 91, 63, 41, 31, 80, 84, 98,  5, 65, 90, 74, 55, 96, \n",
    "  9, 93, 77, 20, 39, 40, 98,  7, 80, 42, 24, 85, 76, 90, 15, 68, 86, 29, 80, 83, \n",
    " 76,  4, 78, 69, 16, 18, 42, 87, 21, 66, 76,  2, 97, 98, 61, 34, 58, 27, 93, 30, \n",
    " 25,  1, 73, 68, 27,  8,  7, 59, 60,  9,  9, 45, 61, 22,  8, 21, 33, 88, 89, 56, \n",
    " 88, 35, 22, 64, 14, 47, 87, 82, 36, 85, 81, 44, 55, 24, 55, 11, 30, 69, 10, 41]\n",
    "p = psutil.Process()\n",
    "initial_cpu = p.cpu_percent(interval=None)\n",
    "start = timeit.default_timer()\n",
    "arr = quick_sort(arr)\n",
    "end = timeit.default_timer()\n",
    "cpu_usage = p.cpu_percent(interval=None) - initial_cpu\n",
    "memory = memory_usage((quick_sort, [arr], {}))[0]\n",
    "print(arr)\n",
    "print(f\"CPU Usage: {cpu_usage}\")\n",
    "print(f\"Time Complexity: {end - start}\")\n",
    "print(f\"Memory Usage: {memory}\")"
   ]
  },
  {
   "cell_type": "code",
   "execution_count": 159,
   "id": "94a1a7dc-6bc1-42a1-bbaa-4bacec134314",
   "metadata": {},
   "outputs": [
    {
     "name": "stdout",
     "output_type": "stream",
     "text": [
      "Timer unit: 1e-07 s\n",
      "\n",
      "Total time: 0.0017346 s\n",
      "File: C:\\Users\\alexv\\AppData\\Local\\Temp\\ipykernel_23948\\1100739363.py\n",
      "Function: quick_sort at line 1\n",
      "\n",
      "Line #      Hits         Time  Per Hit   % Time  Line Contents\n",
      "==============================================================\n",
      "     1                                           def quick_sort(arr):\n",
      "     2       103        788.0      7.7      4.5      if len(arr) <= 1:\n",
      "     3        52        337.0      6.5      1.9          return arr\n",
      "     4        51        368.0      7.2      2.1      pivot = arr[len(arr) // 2]\n",
      "     5       672       5086.0      7.6     29.3      left = [x for x in arr if x < pivot]\n",
      "     6       672       4988.0      7.4     28.8      middle = [x for x in arr if x == pivot]\n",
      "     7       672       5195.0      7.7     29.9      right = [x for x in arr if x > pivot]\n",
      "     8        51        584.0     11.5      3.4      return quick_sort(left) + middle + quick_sort(right)\n",
      "\n"
     ]
    }
   ],
   "source": [
    "from line_profiler import LineProfiler\n",
    "arr = [41, 14, 81, 41, 95, 17, 46, 91, 63, 41, 31, 80, 84, 98,  5, 65, 90, 74, 55, 96, \n",
    "  9, 93, 77, 20, 39, 40, 98,  7, 80, 42, 24, 85, 76, 90, 15, 68, 86, 29, 80, 83, \n",
    " 76,  4, 78, 69, 16, 18, 42, 87, 21, 66, 76,  2, 97, 98, 61, 34, 58, 27, 93, 30, \n",
    " 25,  1, 73, 68, 27,  8,  7, 59, 60,  9,  9, 45, 61, 22,  8, 21, 33, 88, 89, 56, \n",
    " 88, 35, 22, 64, 14, 47, 87, 82, 36, 85, 81, 44, 55, 24, 55, 11, 30, 69, 10, 41]\n",
    "lp = LineProfiler()\n",
    "lp_wrapper = lp(quick_sort)\n",
    "lp_wrapper(arr)\n",
    "lp.print_stats()"
   ]
  },
  {
   "cell_type": "code",
   "execution_count": 160,
   "id": "05980b55-cf04-41a3-aff3-0b10e11524bf",
   "metadata": {},
   "outputs": [
    {
     "name": "stdout",
     "output_type": "stream",
     "text": [
      "[1, 2, 4, 5, 7, 7, 8, 8, 9, 9, 9, 10, 11, 14, 14, 15, 16, 17, 18, 20, 21, 21, 22, 22, 24, 24, 25, 27, 27, 29, 30, 30, 31, 33, 34, 35, 36, 39, 40, 41, 41, 41, 41, 42, 42, 44, 45, 46, 47, 55, 55, 55, 56, 58, 59, 60, 61, 61, 63, 64, 65, 66, 68, 68, 69, 69, 73, 74, 76, 76, 76, 77, 78, 80, 80, 80, 81, 81, 82, 83, 84, 85, 85, 86, 87, 87, 88, 88, 89, 90, 90, 91, 93, 93, 95, 96, 97, 98, 98, 98]\n",
      "CPU Usage: 0.0\n",
      "Time Complexity: 0.0006923000037204474\n",
      "Memory Usage: 80.69140625\n"
     ]
    }
   ],
   "source": [
    "arr = [41, 14, 81, 41, 95, 17, 46, 91, 63, 41, 31, 80, 84, 98,  5, 65, 90, 74, 55, 96, \n",
    "  9, 93, 77, 20, 39, 40, 98,  7, 80, 42, 24, 85, 76, 90, 15, 68, 86, 29, 80, 83, \n",
    " 76,  4, 78, 69, 16, 18, 42, 87, 21, 66, 76,  2, 97, 98, 61, 34, 58, 27, 93, 30, \n",
    " 25,  1, 73, 68, 27,  8,  7, 59, 60,  9,  9, 45, 61, 22,  8, 21, 33, 88, 89, 56, \n",
    " 88, 35, 22, 64, 14, 47, 87, 82, 36, 85, 81, 44, 55, 24, 55, 11, 30, 69, 10, 41]\n",
    "p = psutil.Process()\n",
    "initial_cpu = p.cpu_percent(interval=None)\n",
    "start = timeit.default_timer()\n",
    "merge_sort(arr)\n",
    "end = timeit.default_timer()\n",
    "cpu_usage = p.cpu_percent(interval=None) - initial_cpu\n",
    "memory = memory_usage((merge_sort, [arr], {}))[0]\n",
    "print(arr)\n",
    "print(f\"CPU Usage: {cpu_usage}\")\n",
    "print(f\"Time Complexity: {end - start}\")\n",
    "print(f\"Memory Usage: {memory}\")"
   ]
  },
  {
   "cell_type": "code",
   "execution_count": 161,
   "id": "09020ca5-4fba-4316-96fd-de449ed72f48",
   "metadata": {},
   "outputs": [
    {
     "name": "stdout",
     "output_type": "stream",
     "text": [
      "Timer unit: 1e-07 s\n",
      "\n",
      "Total time: 0.0051053 s\n",
      "File: C:\\Users\\alexv\\AppData\\Local\\Temp\\ipykernel_23948\\3500999211.py\n",
      "Function: merge_sort at line 1\n",
      "\n",
      "Line #      Hits         Time  Per Hit   % Time  Line Contents\n",
      "==============================================================\n",
      "     1                                           def merge_sort(arr):\n",
      "     2       199       4239.0     21.3      8.3      if len(arr) > 1:\n",
      "     3        99       1080.0     10.9      2.1          mid = len(arr)//2\n",
      "     4        99       1403.0     14.2      2.7          L = arr[:mid]\n",
      "     5        99       1023.0     10.3      2.0          R = arr[mid:]\n",
      "     6                                           \n",
      "     7        99       1616.0     16.3      3.2          merge_sort(L)\n",
      "     8        99       1518.0     15.3      3.0          merge_sort(R)\n",
      "     9                                           \n",
      "    10        99        936.0      9.5      1.8          i = j = k = 0\n",
      "    11       643      11640.0     18.1     22.8          while i < len(L) and j < len(R):\n",
      "    12       544       5147.0      9.5     10.1              if L[i] < R[j]:\n",
      "    13       246       1917.0      7.8      3.8                  arr[k] = L[i]\n",
      "    14       246       2171.0      8.8      4.3                  i += 1\n",
      "    15                                                       else:\n",
      "    16       298       2475.0      8.3      4.8                  arr[k] = R[j]\n",
      "    17       298       2378.0      8.0      4.7                  j += 1\n",
      "    18       544       4681.0      8.6      9.2              k += 1\n",
      "    19       169       1983.0     11.7      3.9          while i < len(L):\n",
      "    20        70        559.0      8.0      1.1              arr[k] = L[i]\n",
      "    21        70        557.0      8.0      1.1              i += 1\n",
      "    22        70        550.0      7.9      1.1              k += 1\n",
      "    23       157       3544.0     22.6      6.9          while j < len(R):\n",
      "    24        58        575.0      9.9      1.1              arr[k] = R[j]\n",
      "    25        58        488.0      8.4      1.0              j += 1\n",
      "    26        58        573.0      9.9      1.1              k += 1\n",
      "\n"
     ]
    }
   ],
   "source": [
    "arr = [41, 14, 81, 41, 95, 17, 46, 91, 63, 41, 31, 80, 84, 98,  5, 65, 90, 74, 55, 96, \n",
    "  9, 93, 77, 20, 39, 40, 98,  7, 80, 42, 24, 85, 76, 90, 15, 68, 86, 29, 80, 83, \n",
    " 76,  4, 78, 69, 16, 18, 42, 87, 21, 66, 76,  2, 97, 98, 61, 34, 58, 27, 93, 30, \n",
    " 25,  1, 73, 68, 27,  8,  7, 59, 60,  9,  9, 45, 61, 22,  8, 21, 33, 88, 89, 56, \n",
    " 88, 35, 22, 64, 14, 47, 87, 82, 36, 85, 81, 44, 55, 24, 55, 11, 30, 69, 10, 41]\n",
    "lp = LineProfiler()\n",
    "lp_wrapper = lp(merge_sort)\n",
    "lp_wrapper(arr)\n",
    "lp.print_stats()"
   ]
  },
  {
   "cell_type": "code",
   "execution_count": 162,
   "id": "aa63d500-798c-476e-afdc-ea0f35cf9547",
   "metadata": {},
   "outputs": [
    {
     "name": "stdout",
     "output_type": "stream",
     "text": [
      "[1, 2, 4, 5, 7, 7, 8, 8, 9, 9, 9, 10, 11, 14, 14, 15, 16, 17, 18, 20, 21, 21, 22, 22, 24, 24, 25, 27, 27, 29, 30, 30, 31, 33, 34, 35, 36, 39, 40, 41, 41, 41, 41, 42, 42, 44, 45, 46, 47, 55, 55, 55, 56, 58, 59, 60, 61, 61, 63, 64, 65, 66, 68, 68, 69, 69, 73, 74, 76, 76, 76, 77, 78, 80, 80, 80, 81, 81, 82, 83, 84, 85, 85, 86, 87, 87, 88, 88, 89, 90, 90, 91, 93, 93, 95, 96, 97, 98, 98, 98]\n",
      "CPU Usage: -0.4\n",
      "Time Complexity: 0.001851099994382821\n",
      "Memory Usage: 80.81640625\n"
     ]
    }
   ],
   "source": [
    "arr = [41, 14, 81, 41, 95, 17, 46, 91, 63, 41, 31, 80, 84, 98,  5, 65, 90, 74, 55, 96, \n",
    "  9, 93, 77, 20, 39, 40, 98,  7, 80, 42, 24, 85, 76, 90, 15, 68, 86, 29, 80, 83, \n",
    " 76,  4, 78, 69, 16, 18, 42, 87, 21, 66, 76,  2, 97, 98, 61, 34, 58, 27, 93, 30, \n",
    " 25,  1, 73, 68, 27,  8,  7, 59, 60,  9,  9, 45, 61, 22,  8, 21, 33, 88, 89, 56, \n",
    " 88, 35, 22, 64, 14, 47, 87, 82, 36, 85, 81, 44, 55, 24, 55, 11, 30, 69, 10, 41]\n",
    "initial_cpu = p.cpu_percent(interval=None)\n",
    "start = timeit.default_timer()\n",
    "bubble_sort(arr)\n",
    "end = timeit.default_timer()\n",
    "cpu_usage = p.cpu_percent(interval=None) - initial_cpu\n",
    "memory = memory_usage((bubble_sort, [arr], {}))[0]\n",
    "print(arr)\n",
    "print(f\"CPU Usage: {cpu_usage}\")\n",
    "print(f\"Time Complexity: {end - start}\")\n",
    "print(f\"Memory Usage: {memory}\")"
   ]
  },
  {
   "cell_type": "code",
   "execution_count": 163,
   "id": "5fad107e-a6be-4714-9411-8dc085be41ed",
   "metadata": {},
   "outputs": [
    {
     "name": "stdout",
     "output_type": "stream",
     "text": [
      "Timer unit: 1e-07 s\n",
      "\n",
      "Total time: 0.010578 s\n",
      "File: C:\\Users\\alexv\\AppData\\Local\\Temp\\ipykernel_23948\\2215632754.py\n",
      "Function: bubble_sort at line 1\n",
      "\n",
      "Line #      Hits         Time  Per Hit   % Time  Line Contents\n",
      "==============================================================\n",
      "     1                                           def bubble_sort(arr):\n",
      "     2         1         24.0     24.0      0.0      n = len(arr)\n",
      "     3       101        835.0      8.3      0.8      for i in range(n):\n",
      "     4      5050      41595.0      8.2     39.3          for j in range(0, n-i-1):\n",
      "     5      4950      39766.0      8.0     37.6              if arr[j] > arr[j+1]:\n",
      "     6      2732      23560.0      8.6     22.3                  arr[j], arr[j+1] = arr[j+1], arr[j]\n",
      "\n"
     ]
    }
   ],
   "source": [
    "arr = [41, 14, 81, 41, 95, 17, 46, 91, 63, 41, 31, 80, 84, 98,  5, 65, 90, 74, 55, 96, \n",
    "  9, 93, 77, 20, 39, 40, 98,  7, 80, 42, 24, 85, 76, 90, 15, 68, 86, 29, 80, 83, \n",
    " 76,  4, 78, 69, 16, 18, 42, 87, 21, 66, 76,  2, 97, 98, 61, 34, 58, 27, 93, 30, \n",
    " 25,  1, 73, 68, 27,  8,  7, 59, 60,  9,  9, 45, 61, 22,  8, 21, 33, 88, 89, 56, \n",
    " 88, 35, 22, 64, 14, 47, 87, 82, 36, 85, 81, 44, 55, 24, 55, 11, 30, 69, 10, 41]\n",
    "lp = LineProfiler()\n",
    "lp_wrapper = lp(bubble_sort)\n",
    "lp_wrapper(arr)\n",
    "lp.print_stats()"
   ]
  },
  {
   "cell_type": "raw",
   "id": "f2f21bbd-a3c0-4ce6-9ca1-ba5142b3fb02",
   "metadata": {},
   "source": [
    "I have found that for merge sort, bubble sort and quick sort that the CPU usage and memory usage are almost the same, however the time to complete\n",
    "the algorithm is the slowest with bubble sort and the quickest with quick sort. This makes sense, since Bubble Sort operates on O(n^2) whereas\n",
    "quicksort and merge sort operate on O(n log n). That being said, quick sort is often times still quicker than merge sort.\n",
    "The output of the line profiler shows how much time is spent per line of code. It is interesting that for merge sort it's the while line whereas\n",
    "for the bubble sort it's on the nested loop and for quicksort it's on the splitting into left, middle and right"
   ]
  },
  {
   "cell_type": "code",
   "execution_count": null,
   "id": "5231de85-9dd4-494c-9192-ce477e5d87db",
   "metadata": {},
   "outputs": [],
   "source": []
  }
 ],
 "metadata": {
  "kernelspec": {
   "display_name": "Python 3 (ipykernel)",
   "language": "python",
   "name": "python3"
  },
  "language_info": {
   "codemirror_mode": {
    "name": "ipython",
    "version": 3
   },
   "file_extension": ".py",
   "mimetype": "text/x-python",
   "name": "python",
   "nbconvert_exporter": "python",
   "pygments_lexer": "ipython3",
   "version": "3.12.4"
  }
 },
 "nbformat": 4,
 "nbformat_minor": 5
}
